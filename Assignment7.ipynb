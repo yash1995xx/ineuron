{
 "cells": [
  {
   "cell_type": "markdown",
   "id": "9c1fc813",
   "metadata": {},
   "source": [
    "# Create two int type variables, apply addition, subtraction, division and multiplications\n",
    "and store the results in variables. Then print the data in the following format by calling the\n",
    "variables:\n",
    "First variable is __ & second variable is __.\n",
    "Addition: __ + __ = __\n",
    "Subtraction: __ - __ = __\n",
    "Multiplication: __ * __ = __\n",
    "Division: __ / __ = __"
   ]
  },
  {
   "cell_type": "code",
   "execution_count": 1,
   "id": "37446073",
   "metadata": {},
   "outputs": [
    {
     "name": "stdout",
     "output_type": "stream",
     "text": [
      "First variable is 10 & second variable is 5 .\n",
      "Addition: 10 + 5 = 15\n",
      "Subtraction: 10 - 5 = 5\n",
      "Multiplication: 10 * 5 = 50\n",
      "Division: 10 / 5 = 2.0\n"
     ]
    }
   ],
   "source": [
    "# Create two int type variables\n",
    "first_variable = 10\n",
    "second_variable = 5\n",
    "\n",
    "# Perform operations\n",
    "addition_result = first_variable + second_variable\n",
    "subtraction_result = first_variable - second_variable\n",
    "multiplication_result = first_variable * second_variable\n",
    "division_result = first_variable / second_variable\n",
    "\n",
    "# Print the results in the specified format\n",
    "print(\"First variable is\", first_variable, \"& second variable is\", second_variable, \".\")\n",
    "print(\"Addition:\", first_variable, \"+\", second_variable, \"=\", addition_result)\n",
    "print(\"Subtraction:\", first_variable, \"-\", second_variable, \"=\", subtraction_result)\n",
    "print(\"Multiplication:\", first_variable, \"*\", second_variable, \"=\", multiplication_result)\n",
    "print(\"Division:\", first_variable, \"/\", second_variable, \"=\", division_result)\n"
   ]
  },
  {
   "cell_type": "markdown",
   "id": "bf57aabb",
   "metadata": {},
   "source": [
    "# Q.2. What is the difference between the following operators:\n",
    "(i) ‘/’ & ‘//’\n",
    "(ii) ‘**’ & ‘^’"
   ]
  },
  {
   "cell_type": "markdown",
   "id": "f4ec20f1",
   "metadata": {},
   "source": [
    "#/: This is the regular division operator. It performs floating-point division, meaning it returns a floating-point result even if the division operation results in a whole number.\n",
    "\n",
    "#//: This is the floor division operator. It performs division and rounds down the result to the nearest integer. It always returns an integer, discarding any fractional part.\n"
   ]
  },
  {
   "cell_type": "code",
   "execution_count": 3,
   "id": "517fac48",
   "metadata": {},
   "outputs": [
    {
     "name": "stdout",
     "output_type": "stream",
     "text": [
      "3.5\n",
      "3\n"
     ]
    }
   ],
   "source": [
    "result = 7 / 2\n",
    "print(result)  # Output: 3.5\n",
    "\n",
    "result = 7 // 2\n",
    "print(result)  # Output: 3\n"
   ]
  },
  {
   "cell_type": "markdown",
   "id": "73804181",
   "metadata": {},
   "source": [
    "**: This is the exponentiation operator in Python. It raises the left operand to the power of the right operand.\n",
    "\n",
    "^: This is the bitwise XOR operator in Python, not the exponentiation operator. It performs a bitwise XOR operation on the binary representations of the numbers.\n"
   ]
  },
  {
   "cell_type": "code",
   "execution_count": 4,
   "id": "4b9b9f15",
   "metadata": {},
   "outputs": [
    {
     "name": "stdout",
     "output_type": "stream",
     "text": [
      "8\n",
      "1\n"
     ]
    }
   ],
   "source": [
    "result = 2 ** 3\n",
    "print(result)  # Output: 8\n",
    "\n",
    "result = 2 ^ 3\n",
    "print(result)  # Output: 1 (bitwise XOR of 10 and 11 in binary)\n"
   ]
  },
  {
   "cell_type": "markdown",
   "id": "b894a591",
   "metadata": {},
   "source": [
    "# Q.3. List the logical operators. tell me in short with example"
   ]
  },
  {
   "cell_type": "code",
   "execution_count": 7,
   "id": "56fc14bf",
   "metadata": {},
   "outputs": [
    {
     "name": "stdout",
     "output_type": "stream",
     "text": [
      "False\n",
      "True\n",
      "False\n"
     ]
    }
   ],
   "source": [
    "#Logical operators in Python are used to perform logical operations on Boolean values. Here is a list of logical operators along with a short description and an example:\n",
    "\n",
    "#and: Returns True if both operands are True.\n",
    "result = (True and False)\n",
    "print(result)  # Output: False\n",
    "\n",
    "#or: Returns True if at least one operand is True.\n",
    "result = (True or False)\n",
    "print(result)  # Output: True\n",
    "\n",
    "#not: Returns the negation of the operand, i.e., True becomes False and False becomes True.\n",
    "result = not True\n",
    "print(result)  # Output: False"
   ]
  },
  {
   "cell_type": "markdown",
   "id": "dd11f967",
   "metadata": {},
   "source": [
    "# Q.4. Explain right shift operator and left shift operator with examples."
   ]
  },
  {
   "cell_type": "code",
   "execution_count": 8,
   "id": "56e730c6",
   "metadata": {},
   "outputs": [
    {
     "name": "stdout",
     "output_type": "stream",
     "text": [
      "2\n",
      "8\n"
     ]
    }
   ],
   "source": [
    "#In Python, the right shift (>>) and left shift (<<) operators are used for bitwise shifting of the binary representation of integers.\n",
    "\n",
    "#Right Shift Operator (>>): The right shift operator shifts the bits of a number to the right by a specified number of positions. It's equivalent to dividing the number by 2 raised to the power of the specified shift count.\n",
    "\n",
    "x = 8  # Binary: 0b1000\n",
    "result = x >> 2\n",
    "print(result)  # Output: 2 (Binary: 0b10)\n",
    "\n",
    "#Left Shift Operator (<<): The left shift operator shifts the bits of a number to the left by a specified number of positions. It's equivalent to multiplying the number by 2 raised to the power of the specified shift count.\n",
    "\n",
    "x = 2  # Binary: 0b10\n",
    "result = x << 2\n",
    "print(result)  # Output: 8 (Binary: 0b1000)"
   ]
  },
  {
   "cell_type": "markdown",
   "id": "87cdf672",
   "metadata": {},
   "source": [
    "# Create a list containing int type data of length 15. Then write a code to check if 10 is present in the list or not."
   ]
  },
  {
   "cell_type": "code",
   "execution_count": 9,
   "id": "26f7e683",
   "metadata": {},
   "outputs": [
    {
     "name": "stdout",
     "output_type": "stream",
     "text": [
      "10 is present in the list.\n"
     ]
    }
   ],
   "source": [
    "# Create a list of length 15 with integer data\n",
    "my_list = [3, 7, 2, 10, 5, 8, 12, 6, 15, 9, 11, 1, 4, 13, 14]\n",
    "\n",
    "# Check if 10 is present in the list\n",
    "if 10 in my_list:\n",
    "    print(\"10 is present in the list.\")\n",
    "else:\n",
    "    print(\"10 is not present in the list.\")\n"
   ]
  },
  {
   "cell_type": "code",
   "execution_count": null,
   "id": "7ba2ebc6",
   "metadata": {},
   "outputs": [],
   "source": []
  }
 ],
 "metadata": {
  "kernelspec": {
   "display_name": "Python 3 (ipykernel)",
   "language": "python",
   "name": "python3"
  },
  "language_info": {
   "codemirror_mode": {
    "name": "ipython",
    "version": 3
   },
   "file_extension": ".py",
   "mimetype": "text/x-python",
   "name": "python",
   "nbconvert_exporter": "python",
   "pygments_lexer": "ipython3",
   "version": "3.11.5"
  }
 },
 "nbformat": 4,
 "nbformat_minor": 5
}
