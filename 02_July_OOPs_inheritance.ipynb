{
 "cells": [
  {
   "cell_type": "markdown",
   "id": "851f55b4",
   "metadata": {},
   "source": [
    "# 1. Explain what inheritance is in object-oriented programming and why it is used."
   ]
  },
  {
   "cell_type": "markdown",
   "id": "09593d09",
   "metadata": {},
   "source": [
    "inheritance is a mechanism that allows a class to inherit properties and behaviors from another class. It promotes code reusability by enabling a subclass to reuse features of a superclass. Inheritance is used for modularity, extensibility, and creating a hierarchy of classes, where more specific classes (subclasses) can inherit and extend the functionality of more general classes (superclasses)."
   ]
  },
  {
   "cell_type": "code",
   "execution_count": 2,
   "id": "e6e696ce",
   "metadata": {},
   "outputs": [
    {
     "name": "stdout",
     "output_type": "stream",
     "text": [
      "Buddy\n",
      "Woof!\n",
      "Whiskers\n",
      "Meow!\n"
     ]
    }
   ],
   "source": [
    "class Animal:\n",
    "    def __init__(self, name):\n",
    "        self.name = name\n",
    "\n",
    "    def make_sound(self):\n",
    "        pass  # Placeholder for method\n",
    "\n",
    "class Dog(Animal):\n",
    "    def make_sound(self):\n",
    "        return \"Woof!\"\n",
    "\n",
    "class Cat(Animal):\n",
    "    def make_sound(self):\n",
    "        return \"Meow!\"\n",
    "\n",
    "# Usage:\n",
    "dog = Dog(\"Buddy\")\n",
    "print(dog.name)        # Accessing inherited attribute\n",
    "print(dog.make_sound())  # Accessing overridden method\n",
    "\n",
    "cat = Cat(\"Whiskers\")\n",
    "print(cat.name)\n",
    "print(cat.make_sound())\n"
   ]
  },
  {
   "cell_type": "markdown",
   "id": "ec0e45d9",
   "metadata": {},
   "source": [
    "# 2. Discuss the concept of single inheritance and multiple inheritance, highlighting their differences and advantages.\n"
   ]
  },
  {
   "cell_type": "markdown",
   "id": "dd83d6cf",
   "metadata": {},
   "source": [
    "Single Inheritance:\n",
    "Concept: In single inheritance, a class can inherit from only one superclass.\n",
    "Syntax (in Python): class Subclass(Superclass)\n",
    "\n",
    "Advantages:\n",
    "Simplicity: The code structure is straightforward with a clear parent-child relationship.\n",
    "Easier to understand and maintain in simpler scenarios.\n",
    "\n",
    "Multiple Inheritance:\n",
    "Concept: In multiple inheritance, a class can inherit from more than one superclass.\n",
    "Syntax (in Python): class Subclass(Superclass1, Superclass2, ...)\n",
    "\n",
    "Advantages:\n",
    "Code Reusability: Enables a class to inherit and reuse features from multiple classes.\n",
    "Flexibility: Supports more complex scenarios where a class may have characteristics of multiple types.\n",
    "Promotes Modularity: Allows composing a class by combining functionalities from different sources.\n",
    "\n",
    "Differences:\n",
    "Number of Superclasses:\n",
    "Single Inheritance: One superclass.\n",
    "Multiple Inheritance: More than one superclass.\n",
    "\n",
    "Syntax and Declaration:\n",
    "Single Inheritance: class Subclass(Superclass):\n",
    "Multiple Inheritance: class Subclass(Superclass1, Superclass2, ...)\n",
    "\n",
    "Complexity:\n",
    "Single Inheritance: Simpler and more straightforward.\n",
    "Multiple Inheritance: Can lead to increased complexity, especially when dealing with method conflicts or the diamond problem.\n",
    "\n",
    "Method Resolution Order (MRO):\n",
    "Single Inheritance: Follows a linear method resolution order.\n",
    "Multiple Inheritance: Uses C3 linearization to determine the order in which base classes are searched when a method is called.\n",
    "\n",
    "Common Advantages:\n",
    "Code Reusability: Both single and multiple inheritance support the reuse of code from existing classes.\n",
    "Modularity: Both provide a way to organize code hierarchically, enhancing modularity and maintainability."
   ]
  },
  {
   "cell_type": "markdown",
   "id": "a21f4fdf",
   "metadata": {},
   "source": [
    "# 3. Explain the terms \"base class\" and \"derived class\" in the context of inheritance."
   ]
  },
  {
   "cell_type": "markdown",
   "id": "088fc5ad",
   "metadata": {},
   "source": [
    "Base Class:\n",
    "Definition: The class from which another class (the derived class) inherits properties and behaviors.\n",
    "Characteristics: Typically more general, serving as a foundation for one or more derived classes.\n",
    "Usage: Contains common features shared by multiple subclasses.\n",
    "\n",
    "Derived Class:\n",
    "Definition: The class that inherits properties and behaviors from another class (the base class).\n",
    "Characteristics: Specialized, extending or customizing features inherited from the base class.\n",
    "Usage: Gains access to attributes and methods of the base class and may provide additional or overridden functionality."
   ]
  },
  {
   "cell_type": "code",
   "execution_count": 3,
   "id": "30c5e9fe",
   "metadata": {},
   "outputs": [
    {
     "name": "stdout",
     "output_type": "stream",
     "text": [
      "Animal speaks\n",
      "Dog barks\n"
     ]
    }
   ],
   "source": [
    "class Animal:  # Base Class\n",
    "    def speak(self):\n",
    "        print(\"Animal speaks\")\n",
    "\n",
    "class Dog(Animal):  # Derived Class\n",
    "    def bark(self):\n",
    "        print(\"Dog barks\")\n",
    "\n",
    "# Usage:\n",
    "dog = Dog()\n",
    "dog.speak()  # Accessing method from the base class\n",
    "dog.bark()   # Accessing method from the derived class\n"
   ]
  },
  {
   "cell_type": "markdown",
   "id": "6aa4bf3a",
   "metadata": {},
   "source": [
    "# 4. What is the significance of the \"protected\" access modifier in inheritance? How does it differ from \"private\" and \"public\" modifiers?"
   ]
  },
  {
   "cell_type": "markdown",
   "id": "0454b706",
   "metadata": {},
   "source": [
    "\"Protected\" Access Modifier:\n",
    "Significance: \n",
    "Indicates that an attribute is intended for use within the class and its subclasses but not from outside.\n",
    "\n",
    "Differing Access Levels:\n",
    "Accessible within the class.\n",
    "Accessible within subclasses.\n",
    "Not accessible directly from outside the class hierarchy.\n",
    "\n",
    "\n",
    "\"Private\" and \"Public\" Modifiers:\n",
    "Private (__):\n",
    "Significance: Indicates that an attribute is intended for use only within the class.\n",
    "Access Levels:\n",
    "Accessible only within the class.\n",
    "Not accessible from subclasses or outside the class.\n",
    "\n",
    "Public (No Modifier or public):\n",
    "Significance: \n",
    "Indicates that an attribute is accessible from anywhere, both within and outside the class.\n",
    "\n",
    "Access Levels:\n",
    "Accessible within the class.\n",
    "Accessible from subclasses.\n",
    "Accessible from outside the class hierarchy."
   ]
  },
  {
   "cell_type": "markdown",
   "id": "4ede322e",
   "metadata": {},
   "source": [
    "# 5. What is the purpose of the \"super\" keyword in inheritance? Provide an example."
   ]
  },
  {
   "cell_type": "markdown",
   "id": "100c5884",
   "metadata": {},
   "source": [
    "The super keyword in inheritance is used to call a method or access an attribute from the superclass (base class) within a subclass. It allows a subclass to invoke the methods or attributes of its superclass, facilitating code reuse and enabling the extension of functionality.\n",
    "\n",
    "Purpose of super keyword:\n",
    "\n",
    "Invoke Superclass Methods:\n",
    "Calls a method from the superclass with the same name, allowing the subclass to utilize the functionality defined in the superclass.\n",
    "\n",
    "Access Superclass Attributes:\n",
    "Retrieves the value of an attribute from the superclass, enabling the subclass to use or override it.v"
   ]
  },
  {
   "cell_type": "code",
   "execution_count": 5,
   "id": "4b49b7c6",
   "metadata": {},
   "outputs": [
    {
     "name": "stdout",
     "output_type": "stream",
     "text": [
      "Animal speaks\n",
      "Dog barks\n"
     ]
    }
   ],
   "source": [
    "class Animal:\n",
    "    def speak(self):\n",
    "        print(\"Animal speaks\")\n",
    "\n",
    "class Dog(Animal):\n",
    "    def speak(self):\n",
    "        super().speak()  # Calling the speak method from the superclass\n",
    "        print(\"Dog barks\")\n",
    "\n",
    "# Usage:\n",
    "dog = Dog()\n",
    "dog.speak()\n"
   ]
  },
  {
   "cell_type": "markdown",
   "id": "b327ff7b",
   "metadata": {},
   "source": [
    "# 6. Create a base class called \"Vehicle\" with attributes like \"make\", \"model\", and \"year\". Then, create a derived class called \"Car\" that inherits from \"Vehicle\" and adds an attribute called \"fuel_type\". Implement appropriate methods in both classes."
   ]
  },
  {
   "cell_type": "code",
   "execution_count": 6,
   "id": "077f1b74",
   "metadata": {},
   "outputs": [
    {
     "name": "stdout",
     "output_type": "stream",
     "text": [
      "2022 Toyota Camry\n",
      "2023 Honda Civic\n",
      "Fuel Type: Gasoline\n"
     ]
    }
   ],
   "source": [
    "class Vehicle:\n",
    "    def __init__(self, make, model, year):\n",
    "        self.make = make\n",
    "        self.model = model\n",
    "        self.year = year\n",
    "\n",
    "    def display_info(self):\n",
    "        print(f\"{self.year} {self.make} {self.model}\")\n",
    "\n",
    "class Car(Vehicle):\n",
    "    def __init__(self, make, model, year, fuel_type):\n",
    "        super().__init__(make, model, year)\n",
    "        self.fuel_type = fuel_type\n",
    "\n",
    "    def display_info(self):\n",
    "        super().display_info()\n",
    "        print(f\"Fuel Type: {self.fuel_type}\")\n",
    "\n",
    "# Example usage:\n",
    "vehicle1 = Vehicle(\"Toyota\", \"Camry\", 2022)\n",
    "vehicle1.display_info()\n",
    "\n",
    "car1 = Car(\"Honda\", \"Civic\", 2023, \"Gasoline\")\n",
    "car1.display_info()\n"
   ]
  },
  {
   "cell_type": "markdown",
   "id": "0f2313b9",
   "metadata": {},
   "source": [
    "# 7. Create a base class called \"Employee\" with attributes like \"name\" and \"salary.\" Derive two classes, \"Manager\" and \"Developer,\" from \"Employee.\" Add an additional attribute called \"department\" for the \"Manager\" class and \"programming_language\" for the \"Developer\" class."
   ]
  },
  {
   "cell_type": "code",
   "execution_count": 7,
   "id": "2b2d7ed5",
   "metadata": {},
   "outputs": [
    {
     "name": "stdout",
     "output_type": "stream",
     "text": [
      "Name: John Doe\n",
      "Salary: $60000\n",
      "Name: Alice Smith\n",
      "Salary: $80000\n",
      "Department: Marketing\n",
      "Name: Bob Johnson\n",
      "Salary: $70000\n",
      "Programming Language: Python\n"
     ]
    }
   ],
   "source": [
    "class Employee:\n",
    "    def __init__(self, name, salary):\n",
    "        self.name = name\n",
    "        self.salary = salary\n",
    "\n",
    "    def display_info(self):\n",
    "        print(f\"Name: {self.name}\\nSalary: ${self.salary}\")\n",
    "\n",
    "class Manager(Employee):\n",
    "    def __init__(self, name, salary, department):\n",
    "        super().__init__(name, salary)\n",
    "        self.department = department\n",
    "\n",
    "    def display_info(self):\n",
    "        super().display_info()\n",
    "        print(f\"Department: {self.department}\")\n",
    "\n",
    "class Developer(Employee):\n",
    "    def __init__(self, name, salary, programming_language):\n",
    "        super().__init__(name, salary)\n",
    "        self.programming_language = programming_language\n",
    "\n",
    "    def display_info(self):\n",
    "        super().display_info()\n",
    "        print(f\"Programming Language: {self.programming_language}\")\n",
    "\n",
    "# Example usage:\n",
    "employee1 = Employee(\"John Doe\", 60000)\n",
    "employee1.display_info()\n",
    "\n",
    "manager1 = Manager(\"Alice Smith\", 80000, \"Marketing\")\n",
    "manager1.display_info()\n",
    "\n",
    "developer1 = Developer(\"Bob Johnson\", 70000, \"Python\")\n",
    "developer1.display_info()\n"
   ]
  },
  {
   "cell_type": "markdown",
   "id": "37c681d0",
   "metadata": {},
   "source": [
    "# 8. Design a base class called \"Shape\" with attributes like \"colour\" and \"border_width.\" Create derived classes, \"Rectangle\" and \"Circle,\" that inherit from \"Shape\" and add specific attributes like \"length\" and \"width\" for the \"Rectangle\" class and \"radius\" for the \"Circle\" class."
   ]
  },
  {
   "cell_type": "code",
   "execution_count": 8,
   "id": "81e24e63",
   "metadata": {},
   "outputs": [
    {
     "name": "stdout",
     "output_type": "stream",
     "text": [
      "Colour: Red\n",
      "Border Width: 2\n",
      "Colour: Blue\n",
      "Border Width: 1\n",
      "Length: 5\n",
      "Width: 3\n",
      "Colour: Green\n",
      "Border Width: 1\n",
      "Radius: 4\n"
     ]
    }
   ],
   "source": [
    "class Shape:\n",
    "    def __init__(self, colour, border_width):\n",
    "        self.colour = colour\n",
    "        self.border_width = border_width\n",
    "\n",
    "    def display_info(self):\n",
    "        print(f\"Colour: {self.colour}\\nBorder Width: {self.border_width}\")\n",
    "\n",
    "class Rectangle(Shape):\n",
    "    def __init__(self, colour, border_width, length, width):\n",
    "        super().__init__(colour, border_width)\n",
    "        self.length = length\n",
    "        self.width = width\n",
    "\n",
    "    def display_info(self):\n",
    "        super().display_info()\n",
    "        print(f\"Length: {self.length}\\nWidth: {self.width}\")\n",
    "\n",
    "class Circle(Shape):\n",
    "    def __init__(self, colour, border_width, radius):\n",
    "        super().__init__(colour, border_width)\n",
    "        self.radius = radius\n",
    "\n",
    "    def display_info(self):\n",
    "        super().display_info()\n",
    "        print(f\"Radius: {self.radius}\")\n",
    "\n",
    "# Example usage:\n",
    "shape1 = Shape(\"Red\", 2)\n",
    "shape1.display_info()\n",
    "\n",
    "rectangle1 = Rectangle(\"Blue\", 1, 5, 3)\n",
    "rectangle1.display_info()\n",
    "\n",
    "circle1 = Circle(\"Green\", 1, 4)\n",
    "circle1.display_info()\n"
   ]
  },
  {
   "cell_type": "markdown",
   "id": "99217539",
   "metadata": {},
   "source": [
    "# 9. Create a base class called \"Device\" with attributes like \"brand\" and \"model.\" Derive two classes, \"Phone\" and \"Tablet,\" from \"Device.\" Add specific attributes like \"screen_size\" for the \"Phone\" class and \"battery_capacity\" for the \"Tablet\" class."
   ]
  },
  {
   "cell_type": "code",
   "execution_count": 9,
   "id": "cea8a43f",
   "metadata": {},
   "outputs": [
    {
     "name": "stdout",
     "output_type": "stream",
     "text": [
      "Brand: Apple\n",
      "Model: MacBook\n",
      "Brand: Samsung\n",
      "Model: Galaxy S21\n",
      "Screen Size: 6.2\n",
      "Brand: iPad\n",
      "Model: Air\n",
      "Battery Capacity: 10,000 mAh\n"
     ]
    }
   ],
   "source": [
    "class Device:\n",
    "    def __init__(self, brand, model):\n",
    "        self.brand = brand\n",
    "        self.model = model\n",
    "\n",
    "    def display_info(self):\n",
    "        print(f\"Brand: {self.brand}\\nModel: {self.model}\")\n",
    "\n",
    "class Phone(Device):\n",
    "    def __init__(self, brand, model, screen_size):\n",
    "        super().__init__(brand, model)\n",
    "        self.screen_size = screen_size\n",
    "\n",
    "    def display_info(self):\n",
    "        super().display_info()\n",
    "        print(f\"Screen Size: {self.screen_size}\")\n",
    "\n",
    "class Tablet(Device):\n",
    "    def __init__(self, brand, model, battery_capacity):\n",
    "        super().__init__(brand, model)\n",
    "        self.battery_capacity = battery_capacity\n",
    "\n",
    "    def display_info(self):\n",
    "        super().display_info()\n",
    "        print(f\"Battery Capacity: {self.battery_capacity}\")\n",
    "\n",
    "# Example usage:\n",
    "device1 = Device(\"Apple\", \"MacBook\")\n",
    "device1.display_info()\n",
    "\n",
    "phone1 = Phone(\"Samsung\", \"Galaxy S21\", 6.2)\n",
    "phone1.display_info()\n",
    "\n",
    "tablet1 = Tablet(\"iPad\", \"Air\", \"10,000 mAh\")\n",
    "tablet1.display_info()\n"
   ]
  },
  {
   "cell_type": "code",
   "execution_count": 10,
   "id": "f8d76405",
   "metadata": {},
   "outputs": [
    {
     "name": "stdout",
     "output_type": "stream",
     "text": [
      "Account Number: 123456789\n",
      "Balance: $5000\n",
      "Account Number: 987654321\n",
      "Balance: $10000\n",
      "Interest calculated. New balance: $10250.0\n",
      "Account Number: 555555555\n",
      "Balance: $2000\n",
      "Fees deducted. New balance: $1950\n"
     ]
    }
   ],
   "source": [
    "class BankAccount:\n",
    "    def __init__(self, account_number, balance):\n",
    "        self.account_number = account_number\n",
    "        self.balance = balance\n",
    "\n",
    "    def display_info(self):\n",
    "        print(f\"Account Number: {self.account_number}\\nBalance: ${self.balance}\")\n",
    "\n",
    "class SavingsAccount(BankAccount):\n",
    "    def calculate_interest(self, interest_rate):\n",
    "        interest = self.balance * (interest_rate / 100)\n",
    "        self.balance += interest\n",
    "        print(f\"Interest calculated. New balance: ${self.balance}\")\n",
    "\n",
    "class CheckingAccount(BankAccount):\n",
    "    def deduct_fees(self, fee_amount):\n",
    "        if self.balance >= fee_amount:\n",
    "            self.balance -= fee_amount\n",
    "            print(f\"Fees deducted. New balance: ${self.balance}\")\n",
    "        else:\n",
    "            print(\"Insufficient funds to deduct fees.\")\n",
    "\n",
    "# Example usage:\n",
    "account1 = BankAccount(\"123456789\", 5000)\n",
    "account1.display_info()\n",
    "\n",
    "savings_account1 = SavingsAccount(\"987654321\", 10000)\n",
    "savings_account1.display_info()\n",
    "savings_account1.calculate_interest(2.5)\n",
    "\n",
    "checking_account1 = CheckingAccount(\"555555555\", 2000)\n",
    "checking_account1.display_info()\n",
    "checking_account1.deduct_fees(50)\n"
   ]
  },
  {
   "cell_type": "code",
   "execution_count": null,
   "id": "52962431",
   "metadata": {},
   "outputs": [],
   "source": []
  }
 ],
 "metadata": {
  "kernelspec": {
   "display_name": "Python 3 (ipykernel)",
   "language": "python",
   "name": "python3"
  },
  "language_info": {
   "codemirror_mode": {
    "name": "ipython",
    "version": 3
   },
   "file_extension": ".py",
   "mimetype": "text/x-python",
   "name": "python",
   "nbconvert_exporter": "python",
   "pygments_lexer": "ipython3",
   "version": "3.11.5"
  }
 },
 "nbformat": 4,
 "nbformat_minor": 5
}
