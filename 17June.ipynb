{
 "cells": [
  {
   "cell_type": "markdown",
   "id": "a805ccea",
   "metadata": {},
   "source": [
    "#\n",
    "\n",
    "1. What is the role of try and exception block?\n",
    "2. What is the syntax for a basic try-except block?\n",
    "3. What happens if an exception occurs inside a try block and there is no matching\n",
    "except block?\n",
    "4. What is the difference between using a bare except block and specifying a specific\n",
    "exception type?\n",
    "5. Can you have nested try-except blocks in Python? If yes, then give an example.\n",
    "6. Can we use multiple exception blocks, if yes then give an example.\n",
    "7. Write the reason due to which following errors are raised:\n",
    "a. EOFError\n",
    "b. FloatingPointError\n",
    "c. IndexError\n",
    "d. MemoryError\n",
    "e. OverflowError\n",
    "f. TabError\n",
    "g. ValueError"
   ]
  },
  {
   "cell_type": "markdown",
   "id": "1f9dd8fa",
   "metadata": {},
   "source": [
    "1. Role of try and except block:\n",
    "\n",
    "The try and except blocks in Python are used for exception handling. The try block contains the code that might raise an exception, and the except block contains the code to handle the exception if it occurs.\n",
    "\n",
    "3. What happens if an exception occurs inside a try block and there is no matching except block:\n",
    "If an exception occurs in the try block and there is no matching except block, the program will terminate, and an unhandled exception error will be displayed.\n",
    "\n",
    "4. Difference between using a bare except block and specifying a specific exception type:\n",
    "Using a bare except block (except:) catches all exceptions, which can make it harder to identify and handle specific issues.\n",
    "Specifying a specific exception type (e.g., except ValueError:) allows for targeted handling of that particular exception, making the code more robust and easier to debug.\n",
    "\n",
    "5. Can you have nested try-except blocks in Python?\n",
    "Yes, you can have nested try-except blocks in Python.\n",
    "\n",
    "6. Can we use multiple exception blocks?\n",
    "\n",
    "7. Reasons for the following errors:\n",
    "a. EOFError: Raised when there is an unexpected end of input, typically when using input() and the user presses Ctrl+D (EOF) on the keyboard.\n",
    "b. FloatingPointError: Raised when a floating-point operation fails, such as division by zero or an operation resulting in an undefined value.\n",
    "c. IndexError: Raised when a sequence subscript is out of range.\n",
    "d. MemoryError: Raised when an operation runs out of memory.\n",
    "e. OverflowError: Raised when the result of an arithmetic operation is too large to be represented within the given numeric type.\n",
    "f. TabError: Raised when inconsistent use of tabs and spaces is encountered in indentation.\n",
    "g. ValueError: Raised when a built-in operation or function receives an argument of the correct type but with an invalid value."
   ]
  },
  {
   "cell_type": "code",
   "execution_count": 2,
   "id": "655883a0",
   "metadata": {},
   "outputs": [
    {
     "name": "stdout",
     "output_type": "stream",
     "text": [
      "Inner except block: Cannot divide by zero.\n"
     ]
    }
   ],
   "source": [
    "try:\n",
    "    # Outer try block\n",
    "    try:\n",
    "        # Inner try block\n",
    "        result = 10 / 0  # Raises ZeroDivisionError\n",
    "    except ZeroDivisionError:\n",
    "        print(\"Inner except block: Cannot divide by zero.\")\n",
    "except Exception as e:\n",
    "    print(\"Outer except block:\", e)\n"
   ]
  },
  {
   "cell_type": "code",
   "execution_count": 3,
   "id": "1b9ceb05",
   "metadata": {},
   "outputs": [
    {
     "name": "stdout",
     "output_type": "stream",
     "text": [
      "ValueError: Invalid conversion to integer.\n"
     ]
    }
   ],
   "source": [
    "try:\n",
    "    result = int(\"abc\")  # Raises ValueError\n",
    "except ValueError:\n",
    "    print(\"ValueError: Invalid conversion to integer.\")\n",
    "except TypeError:\n",
    "    print(\"TypeError: Incorrect type.\")\n"
   ]
  },
  {
   "cell_type": "markdown",
   "id": "5510b40b",
   "metadata": {},
   "source": [
    "# Write code for the following given scenario and add try-exception block to it.\n",
    "a. Program to divide two numbers\n",
    "b. Program to convert a string to an integer\n",
    "c. Program to access an element in a list\n",
    "d. Program to handle a specific exception\n",
    "e. Program to handle any exception# "
   ]
  },
  {
   "cell_type": "code",
   "execution_count": 4,
   "id": "fd3266f7",
   "metadata": {},
   "outputs": [
    {
     "name": "stdout",
     "output_type": "stream",
     "text": [
      "Enter the numerator: 12\n",
      "Enter the denominator: 45\n",
      "Result: 0.26666666666666666\n"
     ]
    }
   ],
   "source": [
    "#a. Program to divide two numbers:\n",
    "# Scenario a: Program to divide two numbers\n",
    "try:\n",
    "    num1 = float(input(\"Enter the numerator: \"))\n",
    "    num2 = float(input(\"Enter the denominator: \"))\n",
    "    result = num1 / num2\n",
    "    print(\"Result:\", result)\n",
    "except ZeroDivisionError:\n",
    "    print(\"Error: Cannot divide by zero.\")\n",
    "except ValueError:\n",
    "    print(\"Error: Please enter valid numerical values.\")\n",
    "except Exception as e:\n",
    "    print(\"Error:\", e)\n"
   ]
  },
  {
   "cell_type": "code",
   "execution_count": 7,
   "id": "b1a9e721",
   "metadata": {},
   "outputs": [
    {
     "name": "stdout",
     "output_type": "stream",
     "text": [
      "Enter a number as a string: 010101010\n",
      "Converted Integer: 10101010\n"
     ]
    }
   ],
   "source": [
    "#b. Program to convert a string to an integer:\n",
    "\n",
    "# Scenario b: Program to convert a string to an integer\n",
    "try:\n",
    "    num_str = input(\"Enter a number as a string: \")\n",
    "    result = int(num_str)\n",
    "    print(\"Converted Integer:\", result)\n",
    "except ValueError:\n",
    "    print(\"Error: Invalid conversion to integer.\")\n",
    "except Exception as e:\n",
    "    print(\"Error:\", e)\n"
   ]
  },
  {
   "cell_type": "code",
   "execution_count": 8,
   "id": "8e96513a",
   "metadata": {},
   "outputs": [
    {
     "name": "stdout",
     "output_type": "stream",
     "text": [
      "Enter the index to access: 2\n",
      "Element at index 2 is: 3\n"
     ]
    }
   ],
   "source": [
    "#Program to access an element in a list:\n",
    "\n",
    "# Scenario c: Program to access an element in a list\n",
    "try:\n",
    "    my_list = [1, 2, 3, 4, 5]\n",
    "    index = int(input(\"Enter the index to access: \"))\n",
    "    result = my_list[index]\n",
    "    print(\"Element at index\", index, \"is:\", result)\n",
    "except IndexError:\n",
    "    print(\"Error: Index out of range.\")\n",
    "except ValueError:\n",
    "    print(\"Error: Please enter a valid index as an integer.\")\n",
    "except Exception as e:\n",
    "    print(\"Error:\", e)\n"
   ]
  },
  {
   "cell_type": "code",
   "execution_count": 9,
   "id": "5a583c60",
   "metadata": {},
   "outputs": [
    {
     "name": "stdout",
     "output_type": "stream",
     "text": [
      "Error: Cannot divide by zero.\n"
     ]
    }
   ],
   "source": [
    "#Program to handle a specific exception:\n",
    "\n",
    "# Scenario d: Program to handle a specific exception\n",
    "try:\n",
    "    x = 10 / 0  # Raises ZeroDivisionError\n",
    "except ZeroDivisionError:\n",
    "    print(\"Error: Cannot divide by zero.\")\n",
    "except Exception as e:\n",
    "    print(\"Error:\", e)\n"
   ]
  },
  {
   "cell_type": "code",
   "execution_count": 11,
   "id": "de385da8",
   "metadata": {},
   "outputs": [
    {
     "name": "stdout",
     "output_type": "stream",
     "text": [
      "Error: unsupported operand type(s) for /: 'int' and 'str'\n"
     ]
    }
   ],
   "source": [
    "#Program to handle any exception\n",
    "\n",
    "# Scenario e: Program to handle any exception\n",
    "try:\n",
    "    result = 10 / 'abc'  # Raises TypeError\n",
    "except Exception as e:\n",
    "    print(\"Error:\", e)\n"
   ]
  },
  {
   "cell_type": "code",
   "execution_count": null,
   "id": "7d64f0f7",
   "metadata": {},
   "outputs": [],
   "source": []
  }
 ],
 "metadata": {
  "kernelspec": {
   "display_name": "Python 3 (ipykernel)",
   "language": "python",
   "name": "python3"
  },
  "language_info": {
   "codemirror_mode": {
    "name": "ipython",
    "version": 3
   },
   "file_extension": ".py",
   "mimetype": "text/x-python",
   "name": "python",
   "nbconvert_exporter": "python",
   "pygments_lexer": "ipython3",
   "version": "3.11.5"
  }
 },
 "nbformat": 4,
 "nbformat_minor": 5
}
