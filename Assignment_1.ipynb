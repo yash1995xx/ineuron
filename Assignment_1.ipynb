{
 "cells": [
  {
   "cell_type": "raw",
   "id": "5e0a1d46",
   "metadata": {},
   "source": [
    "ques1.\n",
    "In the below elements which of them are values or an expression? eg:- values can be\n",
    "integer or string and expressions will be mathematical operators.\n",
    "*\n",
    "'hello'\n",
    "-87.8\n",
    "-\n",
    "/\n",
    "+\n",
    "6\n",
    "\n",
    "Solution\n",
    "\n",
    "•\tValues - \n",
    "o\t'hello' : string\n",
    "o\t-87.8 : float\n",
    "o\t6 : integer\n",
    "\n",
    "•\tExpressions:\n",
    "o\t*: multiplication operator\n",
    "o\t-: subtraction operator\n",
    "o\t/: division operator\n",
    "o\t+: addition operator"
   ]
  },
  {
   "cell_type": "raw",
   "id": "b5b69ef5",
   "metadata": {},
   "source": [
    "2. What is the difference between string and variable?\n",
    "\n",
    "Solution \n",
    "•\tString: A string is a data type in programming that represents a sequence of characters. It is used to store and manipulate text. In most programming languages, strings are enclosed in quotation marks (single or double). For example, 'hello' and \"world\" are both strings.\n",
    "•\tVariable: A variable is a named container or storage location that holds a value. It is used to store and represent data within a program. Variables can hold different types of values, including strings, numbers, booleans, and more. Unlike a string, a variable is not a data type itself but a way to reference or store data of different types. For example, in the statement name = 'John', name is a variable that holds the string value 'John'.\n",
    "\n"
   ]
  },
  {
   "cell_type": "raw",
   "id": "57b0379a",
   "metadata": {},
   "source": [
    "3. Describe three different data types.\n",
    "\n",
    "Solution\n",
    "•\tInteger (int): The integer data type represents whole numbers without any decimal places. It includes both positive and negative numbers, as well as zero. Integers are used to perform arithmetic operations like addition, subtraction, multiplication, and division. Examples of integers are -3, 0, 42.\n",
    "•\tString (str): The string data type represents a sequence of characters, such as letters, numbers, symbols, and whitespace. Strings are typically used to store and manipulate text-based data. They are enclosed in quotation marks (either single or double) to differentiate them from other data types. Examples of strings are \"Hello, World!\", \"OpenAI\", \"123\".\n",
    "•\tBoolean (bool): The boolean data type has two possible values: True or False. Booleans are used to represent logical conditions and are often the result of a comparison or a logical operation. They are fundamental in programming for making decisions and controlling the flow of a program. Examples of boolean values are True and False\n"
   ]
  },
  {
   "cell_type": "raw",
   "id": "a93a176b",
   "metadata": {},
   "source": [
    "4. What is an expression made up of? What do all expressions do?\n",
    "\n",
    "Solution\n",
    "An expression is made up of values, variables, operators, and function calls. All expressions perform a computation and produce a result."
   ]
  },
  {
   "cell_type": "raw",
   "id": "852ab98b",
   "metadata": {},
   "source": [
    "5. This assignment statements, like spam = 10. What is the difference between an\n",
    "expression and a statement?\n",
    "\n",
    "Solution\n",
    "Expression: Produces a value.\n",
    "Statement: Performs an action or controls the flow of a program.\n"
   ]
  },
  {
   "cell_type": "raw",
   "id": "2b44e858",
   "metadata": {},
   "source": [
    "6. After running the following code, what does the variable bacon contain?\n",
    "bacon = 22\n",
    "bacon + 1\n",
    "\n",
    "Solution\n",
    "The variable bacon still contains the value 22.\n"
   ]
  },
  {
   "cell_type": "raw",
   "id": "6992b609",
   "metadata": {},
   "source": [
    "7. What should the values of the following two terms be?\n",
    "'spam'+'spamspam'\n",
    "'spam'*3\n",
    "\n",
    "Solution\n",
    "The values of the following two terms would be:\n",
    "•\t'spam' + 'spamspam' is equal to 'spamspamspam'.\n",
    "•\t'spam' * 3 is equal to 'spamspamspam'.\n",
    "In both cases, the resulting value is 'spamspamspam'.\n"
   ]
  },
  {
   "cell_type": "raw",
   "id": "893a8ed1",
   "metadata": {},
   "source": [
    "8. Why is eggs a valid variable name while 100 is invalid?\n",
    "\n",
    "Solution\n",
    "The variable name \"eggs\" is valid because it starts with a letter and consists of alphanumeric characters (letters and numbers) or underscores. Variable names in many programming languages must follow certain rules and conventions, such as starting with a letter or an underscore.\n",
    "On the other hand, \"100\" is an invalid variable name because it starts with a number. Variable names typically cannot start with a number in most programming languages, as it violates the naming conventions.\n"
   ]
  },
  {
   "cell_type": "raw",
   "id": "888884b8",
   "metadata": {},
   "source": [
    "9. What three functions can be used to get the integer, floating-point number, or string\n",
    "version of a value?\n",
    "\n",
    "Solution\n",
    "\n",
    "•\tint(): This function can be used to obtain the integer version of a value. It converts a given value into an integer. For example, int(5.8) would return the integer 5.\n",
    "•\tfloat(): This function can be used to obtain the floating-point number version of a value. It converts a given value nto a floating-point number. For example, float(\"3.14\") would return the floating-point number 3.14.\n",
    "•\tstr(): This function can be used to obtain the string version of a value. It converts a given value into a string. For example, str(42) would return the string '42'.\n"
   ]
  },
  {
   "cell_type": "raw",
   "id": "050e905b",
   "metadata": {},
   "source": [
    "10. Why does this expression cause an error? How can you fix it?\n",
    "'I have eaten' + 99 + 'burritos.'\n",
    "\n",
    "Solution\n",
    "The expression causes an error because it attempts to concatenate a string with an integer value directly. To fix it, you need to convert the integer to a string using the str() function before concatenation.\n",
    "'I have eaten ' + str(99) + ' burritos'\n"
   ]
  }
 ],
 "metadata": {
  "kernelspec": {
   "display_name": "Python 3 (ipykernel)",
   "language": "python",
   "name": "python3"
  },
  "language_info": {
   "codemirror_mode": {
    "name": "ipython",
    "version": 3
   },
   "file_extension": ".py",
   "mimetype": "text/x-python",
   "name": "python",
   "nbconvert_exporter": "python",
   "pygments_lexer": "ipython3",
   "version": "3.9.12"
  }
 },
 "nbformat": 4,
 "nbformat_minor": 5
}
