{
 "cells": [
  {
   "cell_type": "markdown",
   "id": "2e984006",
   "metadata": {},
   "source": [
    "# 1. What is the role of the 'else' block in a try-except statement? Provide an example scenario where it would be useful."
   ]
  },
  {
   "cell_type": "markdown",
   "id": "fe8b0200",
   "metadata": {},
   "source": [
    "\n",
    "The else block in a try-except statement is used to specify a block of code that should be executed if no exceptions occur in the preceding try block. It provides a way to separate the code that may raise exceptions from the code that should run only when no exceptions are encountered."
   ]
  },
  {
   "cell_type": "code",
   "execution_count": 1,
   "id": "51e1d52e",
   "metadata": {},
   "outputs": [
    {
     "name": "stdout",
     "output_type": "stream",
     "text": [
      "Enter a number: 4\n",
      "The square of 4.0 is: 16.0\n"
     ]
    }
   ],
   "source": [
    "try:\n",
    "    user_input = input(\"Enter a number: \")\n",
    "    num = float(user_input)\n",
    "except ValueError:\n",
    "    print(\"Invalid input. Please enter a valid number.\")\n",
    "else:\n",
    "    square = num ** 2\n",
    "    print(f\"The square of {num} is: {square}\")\n"
   ]
  },
  {
   "cell_type": "markdown",
   "id": "419ffc92",
   "metadata": {},
   "source": [
    "# 2. Can a try-except block be nested inside another try-except block? Explain with an example."
   ]
  },
  {
   "cell_type": "markdown",
   "id": "745bc1be",
   "metadata": {},
   "source": [
    "Yes, a try-except block can be nested inside another try-except block. This nesting allows for more fine-grained exception handling, where specific exceptions can be handled at different levels."
   ]
  },
  {
   "cell_type": "code",
   "execution_count": 2,
   "id": "79f698e3",
   "metadata": {},
   "outputs": [
    {
     "name": "stdout",
     "output_type": "stream",
     "text": [
      "Enter the numerator: 34\n",
      "Enter the denominator: 34\n",
      "Result: 1.0\n"
     ]
    }
   ],
   "source": [
    "try:\n",
    "    # Outer try block\n",
    "    num1 = float(input(\"Enter the numerator: \"))\n",
    "    num2 = float(input(\"Enter the denominator: \"))\n",
    "    \n",
    "    try:\n",
    "        # Inner try block\n",
    "        result = num1 / num2\n",
    "        print(\"Result:\", result)\n",
    "    except ZeroDivisionError:\n",
    "        print(\"Inner except block: Cannot divide by zero.\")\n",
    "except ValueError:\n",
    "    print(\"Outer except block: Invalid input. Please enter valid numerical values.\")\n",
    "except Exception as e:\n",
    "    print(\"Outer except block:\", e)\n"
   ]
  },
  {
   "cell_type": "markdown",
   "id": "87467a0b",
   "metadata": {},
   "source": [
    "# 3. How can you create a custom exception class in Python? Provide an example that demonstrates its usage."
   ]
  },
  {
   "cell_type": "markdown",
   "id": "5ca01b48",
   "metadata": {},
   "source": [
    "\n",
    "To create a custom exception class in Python, you can define a new class that inherits from the built-in Exception class or one of its subclasses. Typically, custom exception classes include additional attributes or methods specific to your application."
   ]
  },
  {
   "cell_type": "code",
   "execution_count": 3,
   "id": "11ba3610",
   "metadata": {},
   "outputs": [
    {
     "name": "stdout",
     "output_type": "stream",
     "text": [
      "Caught a custom exception: This is a custom exception.\n"
     ]
    }
   ],
   "source": [
    "class CustomError(Exception):\n",
    "    def __init__(self, message=\"A custom error occurred.\"):\n",
    "        self.message = message\n",
    "        super().__init__(self.message)\n",
    "\n",
    "# Example of using the custom exception class:\n",
    "try:\n",
    "    raise CustomError(\"This is a custom exception.\")\n",
    "except CustomError as ce:\n",
    "    print(f\"Caught a custom exception: {ce}\")\n"
   ]
  },
  {
   "cell_type": "markdown",
   "id": "82ad0b8f",
   "metadata": {},
   "source": [
    "# 4. What are some common exceptions that are built-in to Python?"
   ]
  },
  {
   "cell_type": "markdown",
   "id": "7438ebea",
   "metadata": {},
   "source": [
    "Python has several built-in exceptions that represent common error conditions or unexpected situations. Here are some of the common built-in exceptions in Python:\n",
    "\n",
    "SyntaxError: Raised when there is a syntax error in the code.\n",
    "\n",
    "IndentationError: Raised when there is an incorrect indentation.\n",
    "\n",
    "TypeError: Raised when an operation or function is applied to an object of an inappropriate type.\n",
    "\n",
    "NameError: Raised when a local or global name is not found.\n",
    "\n",
    "ZeroDivisionError: Raised when the second operand of a division or modulo operation is zero.\n",
    "\n",
    "ValueError: Raised when a built-in operation or function receives an argument of the correct type but an invalid value.\n",
    "\n",
    "FileNotFoundError: Raised when a file or directory is requested but cannot be found.\n",
    "\n",
    "IndexError: Raised when a sequence subscript is out of range.\n",
    "\n",
    "KeyError: Raised when a dictionary key is not found.\n",
    "\n",
    "AttributeError: Raised when an attribute reference or assignment fails.\n",
    "\n",
    "OSError: Base class for I/O-related errors.\n",
    "\n",
    "TypeError: Raised when an operation or function is applied to an object of an inappropriate type.\n",
    "\n",
    "ValueError: Raised when a built-in operation or function receives an argument of the correct type but an invalid value.\n",
    "\n",
    "ImportError: Raised when an import statement fails to find the module definition.\n",
    "\n",
    "RuntimeError: Raised when an error is detected that doesn't fall into any of the other categories."
   ]
  },
  {
   "cell_type": "markdown",
   "id": "a0fc3f13",
   "metadata": {},
   "source": [
    "# 5. What is logging in Python, and why is it important in software development?"
   ]
  },
  {
   "cell_type": "markdown",
   "id": "808c8408",
   "metadata": {},
   "source": [
    "Logging in Python refers to the process of recording information about the execution of a program. The logging module in Python provides a flexible framework for emitting log messages from programs. Logging is essential in software development for several reasons:\n",
    "\n",
    "Debugging and Troubleshooting:\n",
    "\n",
    "Logging allows developers to track the flow of the program and identify issues during development and testing.\n",
    "Detailed log messages can provide insights into the program's state, variable values, and the sequence of events.\n",
    "Error Tracking:\n",
    "\n",
    "Logging helps in identifying and tracking errors or exceptions that occur during the execution of a program.\n",
    "Log messages can include stack traces, making it easier to pinpoint the location and cause of errors.\n",
    "Monitoring and Analysis:\n",
    "\n",
    "In production environments, logging is crucial for monitoring the health and performance of an application.\n",
    "Log messages can be analyzed to identify patterns, trends, or anomalies in the system's behavior.\n",
    "Audit Trails:\n",
    "\n",
    "Logging can be used to create audit trails, capturing important events or actions taken by the application.\n",
    "This is valuable for security and compliance purposes.\n",
    "Configuration and Fine-Tuning:\n",
    "\n",
    "Logging allows developers and administrators to configure the level of detail in log messages.\n",
    "Different log levels (e.g., DEBUG, INFO, WARNING, ERROR, CRITICAL) provide granularity in controlling the amount of information logged.\n",
    "Communication between Components:\n",
    "\n",
    "In complex systems, logging serves as a means of communication between different components or modules.\n",
    "Log messages provide a common format for exchanging information.\n",
    "Performance Monitoring:\n",
    "\n",
    "Logging can include performance-related metrics, helping developers identify bottlenecks or areas for optimization.\n",
    "User Support:\n",
    "\n",
    "When users encounter issues, logs can be invaluable for diagnosing problems and providing support.\n",
    "Error messages logged during unexpected situations can guide users or support teams in resolving issues.\n",
    "Historical Record:\n",
    "\n",
    "Logging creates a historical record of an application's behavior, which can be useful for future development, maintenance, or analysis."
   ]
  },
  {
   "cell_type": "markdown",
   "id": "cddc14dd",
   "metadata": {},
   "source": [
    "# 6. Explain the purpose of log levels in Python logging and provide examples of when each log level would be appropriate."
   ]
  },
  {
   "cell_type": "markdown",
   "id": "b43847ff",
   "metadata": {},
   "source": [
    "DEBUG:\n",
    "Purpose: Detailed information for debugging purposes.\n",
    "Example Use Case: Printing variable values, function calls, or other detailed information during development.\n",
    "\n",
    "INFO:\n",
    "Purpose: General information about the program's execution.\n",
    "Example Use Case: Reporting major program events or milestones.\n",
    "\n",
    "WARNING:\n",
    "Purpose: Indicates a potential issue or something unexpected.\n",
    "Example Use Case: Non-critical issues that don't necessarily stop the program but may require attention.\n",
    "\n",
    "ERROR:\n",
    "Purpose: Indicates an error that caused the program to fail to perform a specific function.\n",
    "Example Use Case: Log critical errors that prevent certain operations or functionalities.\n",
    "\n",
    "CRITICAL:\n",
    "Purpose: Indicates a critical error that may lead to program termination.\n",
    "Example Use Case: Logging fatal errors that severely impact the application's functionality."
   ]
  },
  {
   "cell_type": "code",
   "execution_count": 4,
   "id": "fd492727",
   "metadata": {},
   "outputs": [
    {
     "name": "stderr",
     "output_type": "stream",
     "text": [
      "DEBUG:root:This is a debug message with detailed information.\n"
     ]
    }
   ],
   "source": [
    "import logging\n",
    "\n",
    "logging.basicConfig(level=logging.DEBUG)\n",
    "logging.debug(\"This is a debug message with detailed information.\")\n"
   ]
  },
  {
   "cell_type": "code",
   "execution_count": 5,
   "id": "6dc19269",
   "metadata": {},
   "outputs": [
    {
     "name": "stderr",
     "output_type": "stream",
     "text": [
      "INFO:root:Program started.\n"
     ]
    }
   ],
   "source": [
    "import logging\n",
    "\n",
    "logging.basicConfig(level=logging.INFO)\n",
    "\n",
    "logging.info(\"Program started.\")\n"
   ]
  },
  {
   "cell_type": "code",
   "execution_count": 6,
   "id": "6839d5ba",
   "metadata": {},
   "outputs": [
    {
     "name": "stderr",
     "output_type": "stream",
     "text": [
      "WARNING:root:This is a warning message.\n"
     ]
    }
   ],
   "source": [
    "import logging\n",
    "\n",
    "logging.basicConfig(level=logging.WARNING)\n",
    "logging.warning(\"This is a warning message.\")\n"
   ]
  },
  {
   "cell_type": "code",
   "execution_count": 7,
   "id": "4a7c7276",
   "metadata": {},
   "outputs": [
    {
     "name": "stderr",
     "output_type": "stream",
     "text": [
      "ERROR:root:An error occurred and needs attention.\n"
     ]
    }
   ],
   "source": [
    "import logging\n",
    "\n",
    "logging.basicConfig(level=logging.ERROR)\n",
    "logging.error(\"An error occurred and needs attention.\")\n"
   ]
  },
  {
   "cell_type": "code",
   "execution_count": 8,
   "id": "8194b558",
   "metadata": {},
   "outputs": [
    {
     "name": "stderr",
     "output_type": "stream",
     "text": [
      "CRITICAL:root:This is a critical error. The program cannot continue.\n"
     ]
    }
   ],
   "source": [
    "import logging\n",
    "\n",
    "logging.basicConfig(level=logging.CRITICAL)\n",
    "logging.critical(\"This is a critical error. The program cannot continue.\")\n"
   ]
  },
  {
   "cell_type": "markdown",
   "id": "b1995b42",
   "metadata": {},
   "source": [
    "# 7. What are log formatters in Python logging, and how can you customise the log message format using formatters?"
   ]
  },
  {
   "cell_type": "markdown",
   "id": "09e01fa1",
   "metadata": {},
   "source": [
    "\n",
    "In Python logging, log formatters control the layout and content of log messages. They define the structure of the log records generated by the logging module. Log formatters are particularly useful for customizing the appearance of log messages, including timestamp, log level, and other relevant information.\n",
    "\n",
    "The Formatter class in the logging module is used to configure the log message format. It allows developers to specify a string that defines the structure of the log message by incorporating placeholders for various attributes."
   ]
  },
  {
   "cell_type": "code",
   "execution_count": 9,
   "id": "4e373494",
   "metadata": {},
   "outputs": [
    {
     "name": "stderr",
     "output_type": "stream",
     "text": [
      "INFO:example_logger:This is an informational message.\n",
      "WARNING:example_logger:This is a warning message.\n"
     ]
    }
   ],
   "source": [
    "import logging\n",
    "\n",
    "# Create a custom formatter\n",
    "formatter = logging.Formatter('%(asctime)s - %(levelname)s - %(message)s')\n",
    "\n",
    "# Create a handler and set the formatter\n",
    "file_handler = logging.FileHandler('example.log')\n",
    "file_handler.setFormatter(formatter)\n",
    "\n",
    "# Create a logger and add the handler\n",
    "logger = logging.getLogger('example_logger')\n",
    "logger.addHandler(file_handler)\n",
    "\n",
    "# Log messages using the logger\n",
    "logger.setLevel(logging.INFO)\n",
    "logger.info('This is an informational message.')\n",
    "logger.warning('This is a warning message.')\n"
   ]
  },
  {
   "cell_type": "markdown",
   "id": "1d333194",
   "metadata": {},
   "source": [
    "# 8. How can you set up logging to capture log messages from multiple modules or classes in a Python application?"
   ]
  },
  {
   "cell_type": "markdown",
   "id": "58cd8b83",
   "metadata": {},
   "source": [
    "Create a Central Logging Configuration Module:\n",
    "\n",
    "Create a separate module (e.g., logger_config.py) dedicated to setting up the logging configuration.\n",
    "Define a function to configure the logger with desired settings."
   ]
  },
  {
   "cell_type": "code",
   "execution_count": 11,
   "id": "27997087",
   "metadata": {},
   "outputs": [],
   "source": [
    "import logging\n",
    "\n",
    "def configure_logger():\n",
    "    # Create a logger\n",
    "    logger = logging.getLogger(\"my_application\")\n",
    "\n",
    "    # Set the log level (e.g., logging.DEBUG, logging.INFO, logging.WARNING, logging.ERROR, logging.CRITICAL)\n",
    "    logger.setLevel(logging.DEBUG)\n",
    "\n",
    "    # Create a formatter\n",
    "    formatter = logging.Formatter(\"%(asctime)s - %(levelname)s - %(name)s - %(message)s - Line %(lineno)d\")\n",
    "\n",
    "    # Create a handler (e.g., StreamHandler, FileHandler, etc.)\n",
    "    file_handler = logging.FileHandler(\"my_application.log\")\n",
    "    file_handler.setFormatter(formatter)\n",
    "\n",
    "    # Add the handler to the logger\n",
    "    logger.addHandler(file_handler)\n",
    "\n",
    "    return logger\n"
   ]
  },
  {
   "cell_type": "code",
   "execution_count": 14,
   "id": "29e11e0b",
   "metadata": {},
   "outputs": [
    {
     "name": "stdout",
     "output_type": "stream",
     "text": [
      "['C:\\\\Users\\\\asus', 'C:\\\\Users\\\\asus\\\\anaconda3\\\\python311.zip', 'C:\\\\Users\\\\asus\\\\anaconda3\\\\DLLs', 'C:\\\\Users\\\\asus\\\\anaconda3\\\\Lib', 'C:\\\\Users\\\\asus\\\\anaconda3', '', 'C:\\\\Users\\\\asus\\\\anaconda3\\\\Lib\\\\site-packages', 'C:\\\\Users\\\\asus\\\\anaconda3\\\\Lib\\\\site-packages\\\\win32', 'C:\\\\Users\\\\asus\\\\anaconda3\\\\Lib\\\\site-packages\\\\win32\\\\lib', 'C:\\\\Users\\\\asus\\\\anaconda3\\\\Lib\\\\site-packages\\\\Pythonwin']\n"
     ]
    }
   ],
   "source": [
    "import sys\n",
    "print(sys.path)\n"
   ]
  },
  {
   "cell_type": "markdown",
   "id": "47571555",
   "metadata": {},
   "source": [
    "Use the Central Logger Configuration in Modules or Classes:\n",
    "\n",
    "In each module or class that requires logging, import the configure_logger function from the central configuration module.\n",
    "Call the function to get the configured logger.\n",
    "Use the logger to emit log messages."
   ]
  },
  {
   "cell_type": "code",
   "execution_count": 13,
   "id": "5e504685",
   "metadata": {},
   "outputs": [],
   "source": [
    "# logger_config.py\n",
    "import logging\n",
    "\n",
    "def configure_logger():\n",
    "    # Create a logger\n",
    "    logger = logging.getLogger(\"my_application\")\n",
    "\n",
    "    # Set the log level\n",
    "    logger.setLevel(logging.DEBUG)\n",
    "\n",
    "    # Create a formatter\n",
    "    formatter = logging.Formatter(\"%(asctime)s - %(levelname)s - %(name)s - %(message)s - Line %(lineno)d\")\n",
    "\n",
    "    # Create a handler\n",
    "    file_handler = logging.FileHandler(\"my_application.log\")\n",
    "    file_handler.setFormatter(formatter)\n",
    "\n",
    "    # Add the handler to the logger\n",
    "    logger.addHandler(file_handler)\n",
    "\n",
    "    return logger\n"
   ]
  },
  {
   "cell_type": "code",
   "execution_count": 15,
   "id": "86e3deeb",
   "metadata": {},
   "outputs": [
    {
     "name": "stdout",
     "output_type": "stream",
     "text": [
      "['C:\\\\Users\\\\asus', 'C:\\\\Users\\\\asus\\\\anaconda3\\\\python311.zip', 'C:\\\\Users\\\\asus\\\\anaconda3\\\\DLLs', 'C:\\\\Users\\\\asus\\\\anaconda3\\\\Lib', 'C:\\\\Users\\\\asus\\\\anaconda3', '', 'C:\\\\Users\\\\asus\\\\anaconda3\\\\Lib\\\\site-packages', 'C:\\\\Users\\\\asus\\\\anaconda3\\\\Lib\\\\site-packages\\\\win32', 'C:\\\\Users\\\\asus\\\\anaconda3\\\\Lib\\\\site-packages\\\\win32\\\\lib', 'C:\\\\Users\\\\asus\\\\anaconda3\\\\Lib\\\\site-packages\\\\Pythonwin']\n"
     ]
    }
   ],
   "source": [
    "import sys\n",
    "print(sys.path)\n"
   ]
  },
  {
   "cell_type": "markdown",
   "id": "9a0a68f9",
   "metadata": {},
   "source": [
    "# 9. What is the difference between the logging and print statements in Python? When should you use logging over print statements in a real-world application?"
   ]
  },
  {
   "cell_type": "markdown",
   "id": "50a242f2",
   "metadata": {},
   "source": [
    "Logging:\n",
    "\n",
    "Purpose: The primary purpose of the logging module is to facilitate effective logging, which involves capturing and storing information about the program's execution for various purposes.\n",
    "Features: logging provides features such as log levels (DEBUG, INFO, WARNING, ERROR, CRITICAL), log formatting, multiple handlers (output to console, file, etc.), and the ability to configure logging globally.\n",
    "Use Cases: Logging is particularly useful in larger applications, production environments, or when you need to maintain a detailed record of events for debugging, monitoring, and analysis."
   ]
  },
  {
   "cell_type": "code",
   "execution_count": 16,
   "id": "4659978a",
   "metadata": {},
   "outputs": [
    {
     "name": "stderr",
     "output_type": "stream",
     "text": [
      "DEBUG:root:This is a debug message.\n"
     ]
    }
   ],
   "source": [
    "import logging\n",
    "\n",
    "logging.basicConfig(level=logging.DEBUG)\n",
    "logging.debug(\"This is a debug message.\")\n"
   ]
  },
  {
   "cell_type": "markdown",
   "id": "28171145",
   "metadata": {},
   "source": [
    "Print Statements:\n",
    "\n",
    "Purpose: print statements are primarily used for simple output to the console during development and testing.\n",
    "Features: print statements are straightforward and print the given content to the console. They lack the features provided by the logging module, such as log levels and structured log messages.\n",
    "Use Cases: print statements are convenient for quick debugging, experimenting, and getting immediate feedback during development. However, they are not suitable for comprehensive logging in larger projects."
   ]
  },
  {
   "cell_type": "code",
   "execution_count": 17,
   "id": "d0f85bcb",
   "metadata": {},
   "outputs": [
    {
     "name": "stdout",
     "output_type": "stream",
     "text": [
      "This is a print statement.\n"
     ]
    }
   ],
   "source": [
    "print(\"This is a print statement.\")\n"
   ]
  },
  {
   "cell_type": "markdown",
   "id": "24ede86f",
   "metadata": {},
   "source": [
    "# 10. Write a Python program that logs a message to a file named \"app.log\" with the following requirements:\n",
    "● The log message should be \"Hello, World!\"\n",
    "● The log level should be set to \"INFO.\"\n",
    "● The log file should append new log entries without overwriting previous ones."
   ]
  },
  {
   "cell_type": "code",
   "execution_count": 18,
   "id": "fccc6a0b",
   "metadata": {},
   "outputs": [
    {
     "name": "stderr",
     "output_type": "stream",
     "text": [
      "INFO:root:Hello, World!\n"
     ]
    },
    {
     "name": "stdout",
     "output_type": "stream",
     "text": [
      "Log entry added to app.log.\n"
     ]
    }
   ],
   "source": [
    "import logging\n",
    "\n",
    "# Configure logging to a file named \"app.log\"\n",
    "logging.basicConfig(filename='app.log', level=logging.INFO, filemode='a', format='%(asctime)s - %(levelname)s - %(message)s')\n",
    "\n",
    "# Log an \"Hello, World!\" message with INFO level\n",
    "logging.info(\"Hello, World!\")\n",
    "\n",
    "# Optionally, print a message to indicate the logging operation\n",
    "print(\"Log entry added to app.log.\")\n"
   ]
  },
  {
   "cell_type": "markdown",
   "id": "96a1fb5a",
   "metadata": {},
   "source": [
    "# 11. Create a Python program that logs an error message to the console and a file named\n",
    "\"errors.log\" if an exception occurs during the program's execution. The error\n",
    "message should include the exception type and a timestamp."
   ]
  },
  {
   "cell_type": "code",
   "execution_count": 19,
   "id": "52b7c489",
   "metadata": {},
   "outputs": [
    {
     "name": "stderr",
     "output_type": "stream",
     "text": [
      "ERROR:root:Exception occurred: division by zero - Timestamp: 2024-01-26 11:59:31.368475\n",
      "ERROR:error_logger:Exception Type: ZeroDivisionError, Timestamp: 2024-01-26 11:59:31.368475\n",
      "ERROR:error_logger:Traceback (most recent call last):\n",
      "  File \"C:\\Users\\asus\\AppData\\Local\\Temp\\ipykernel_12120\\4067230087.py\", line 8, in main\n",
      "    result = 10 / 0\n",
      "             ~~~^~~\n",
      "ZeroDivisionError: division by zero\n",
      "\n"
     ]
    }
   ],
   "source": [
    "import logging\n",
    "import traceback\n",
    "from datetime import datetime\n",
    "\n",
    "def main():\n",
    "    try:\n",
    "        # Code that may raise an exception\n",
    "        result = 10 / 0\n",
    "    except Exception as e:\n",
    "        # Log the exception to the console\n",
    "        logging.error(f\"Exception occurred: {e} - Timestamp: {datetime.now()}\")\n",
    "\n",
    "        # Log the exception to the file \"errors.log\"\n",
    "        log_to_file = logging.getLogger('error_logger')\n",
    "        log_to_file.error(f\"Exception Type: {type(e).__name__}, Timestamp: {datetime.now()}\")\n",
    "        log_to_file.error(traceback.format_exc())\n",
    "\n",
    "if __name__ == \"__main__\":\n",
    "    # Configure logging to console\n",
    "    logging.basicConfig(level=logging.ERROR, format='%(levelname)s - %(message)s')\n",
    "\n",
    "    # Configure logging to file \"errors.log\"\n",
    "    log_to_file = logging.getLogger('error_logger')\n",
    "    log_to_file.setLevel(logging.ERROR)\n",
    "    file_handler = logging.FileHandler('errors.log', mode='a')\n",
    "    file_handler.setFormatter(logging.Formatter('%(levelname)s - %(asctime)s - %(message)s'))\n",
    "    log_to_file.addHandler(file_handler)\n",
    "\n",
    "    # Run the main function\n",
    "    main()\n"
   ]
  },
  {
   "cell_type": "code",
   "execution_count": null,
   "id": "dc262fb7",
   "metadata": {},
   "outputs": [],
   "source": []
  }
 ],
 "metadata": {
  "kernelspec": {
   "display_name": "Python 3 (ipykernel)",
   "language": "python",
   "name": "python3"
  },
  "language_info": {
   "codemirror_mode": {
    "name": "ipython",
    "version": 3
   },
   "file_extension": ".py",
   "mimetype": "text/x-python",
   "name": "python",
   "nbconvert_exporter": "python",
   "pygments_lexer": "ipython3",
   "version": "3.11.5"
  }
 },
 "nbformat": 4,
 "nbformat_minor": 5
}
