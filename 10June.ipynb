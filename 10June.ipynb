{
 "cells": [
  {
   "cell_type": "markdown",
   "id": "e28fd3c5",
   "metadata": {},
   "source": [
    "# In Python, what is the difference between a built-in function and a user-defined function? Provide an example of each."
   ]
  },
  {
   "cell_type": "markdown",
   "id": "314195cb",
   "metadata": {},
   "source": [
    "Built-in Function:\n",
    "Built-in functions are functions that are pre-defined in Python and come as part of the standard library.\n",
    "These functions are readily available and can be used without the need for explicit declaration or definition.\n",
    "Examples include len(), print(), sum(), etc.\n",
    "\n",
    "User-Defined Function:\n",
    "User-defined functions are created by the user to perform a specific task as per their requirements.\n",
    "They are defined using the def keyword, followed by the function name, parameters, and the body of the function.\n",
    "Users have control over the functionality and structure of these functions.\n"
   ]
  },
  {
   "cell_type": "code",
   "execution_count": 1,
   "id": "a5ca04ab",
   "metadata": {},
   "outputs": [
    {
     "name": "stdout",
     "output_type": "stream",
     "text": [
      "Length of the string: 13\n"
     ]
    }
   ],
   "source": [
    "# Using the built-in function len()\n",
    "my_string = \"Hello, World!\"\n",
    "length = len(my_string)\n",
    "print(\"Length of the string:\", length)\n"
   ]
  },
  {
   "cell_type": "code",
   "execution_count": 2,
   "id": "9e134c0b",
   "metadata": {},
   "outputs": [
    {
     "name": "stdout",
     "output_type": "stream",
     "text": [
      "Result of addition: 12\n"
     ]
    }
   ],
   "source": [
    "# Defining a user-defined function to add two numbers\n",
    "def add_numbers(a, b):\n",
    "    return a + b\n",
    "\n",
    "# Using the user-defined function\n",
    "result = add_numbers(5, 7)\n",
    "print(\"Result of addition:\", result)\n"
   ]
  },
  {
   "cell_type": "markdown",
   "id": "8a325031",
   "metadata": {},
   "source": [
    "# 2. How can you pass arguments to a function in Python? Explain the difference between positional arguments and keyword arguments."
   ]
  },
  {
   "cell_type": "markdown",
   "id": "5e50f5d3",
   "metadata": {},
   "source": [
    "Passing Arguments to a Function in Python: In Python, you can pass arguments to a function in the following ways:\n",
    "\n",
    "Positional Arguments: Positional arguments are passed based on their position or order in the function call. The values are assigned to parameters in the order they appear in the function definition.\n",
    "\n",
    "Keyword Arguments: Keyword arguments are passed by explicitly mentioning the parameter names along with their values. This allows you to pass values to specific parameters regardless of their order.\n",
    "\n",
    "Default Values: You can also provide default values for parameters in a function. If a value is not explicitly provided, the default value is used.\n",
    "\n",
    "Difference Between Positional and Keyword Arguments: Positional Arguments: The values are assigned based on the order in which the parameters are defined.\n",
    "\n",
    "Keyword Arguments: The values are assigned based on the parameter names mentioned in the function call.\n"
   ]
  },
  {
   "cell_type": "markdown",
   "id": "17071d3a",
   "metadata": {},
   "source": [
    "def add(a, b):\n",
    "    return a + b\n",
    "\n",
    "result = add(3, 5)  # 3 is assigned to 'a', and 5 is assigned to 'b'\n",
    "print(result)"
   ]
  },
  {
   "cell_type": "code",
   "execution_count": 6,
   "id": "8cc3f6e2",
   "metadata": {},
   "outputs": [
    {
     "name": "stdout",
     "output_type": "stream",
     "text": [
      "Hello, Alice! How are you?\n"
     ]
    }
   ],
   "source": [
    "def greet(name, message):\n",
    "    return f\"Hello, {name}! {message}\"\n",
    "\n",
    "result = greet(message=\"How are you?\", name=\"Alice\")\n",
    "print(result)"
   ]
  },
  {
   "cell_type": "code",
   "execution_count": 10,
   "id": "72b08639",
   "metadata": {},
   "outputs": [
    {
     "name": "stdout",
     "output_type": "stream",
     "text": [
      "Hello, Bob! Welcome!\n"
     ]
    }
   ],
   "source": [
    "def greet(name, message=\"Welcome!\"):\n",
    "    return f\"Hello, {name}! {message}\"\n",
    "\n",
    "result = greet(\"Bob\")  # Uses the default value for 'message'\n",
    "print(result)"
   ]
  },
  {
   "cell_type": "code",
   "execution_count": 8,
   "id": "93f6e892",
   "metadata": {},
   "outputs": [
    {
     "data": {
      "text/plain": [
       "8"
      ]
     },
     "execution_count": 8,
     "metadata": {},
     "output_type": "execute_result"
    }
   ],
   "source": [
    "add(3, 5)  # 3 is assigned to the first parameter, and 5 is assigned to the second parameter\n"
   ]
  },
  {
   "cell_type": "code",
   "execution_count": 9,
   "id": "066af082",
   "metadata": {},
   "outputs": [
    {
     "data": {
      "text/plain": [
       "'Hello, Alice! How are you?'"
      ]
     },
     "execution_count": 9,
     "metadata": {},
     "output_type": "execute_result"
    }
   ],
   "source": [
    "greet(message=\"How are you?\", name=\"Alice\")  # Explicitly specifying which value goes to which parameter\n"
   ]
  },
  {
   "cell_type": "markdown",
   "id": "9bfbbf56",
   "metadata": {},
   "source": [
    "# 3. What is the purpose of the return statement in a function? Can a function have multiple return statements? Explain with an example."
   ]
  },
  {
   "cell_type": "markdown",
   "id": "d34f972b",
   "metadata": {},
   "source": [
    "Purpose of the return Statement in a Function:\n",
    "\n",
    "The return statement in a function serves the purpose of exiting the function and returning a value to the caller.\n",
    "It allows a function to produce a result that can be used by the code that called the function.\n",
    "Can a Function Have Multiple Return Statements?\n",
    "\n",
    "Yes, a function can have multiple return statements.\n",
    "However, once a return statement is executed, the function immediately exits, and no further code in the function is executed."
   ]
  },
  {
   "cell_type": "code",
   "execution_count": 11,
   "id": "ffd78cc5",
   "metadata": {},
   "outputs": [
    {
     "name": "stdout",
     "output_type": "stream",
     "text": [
      "Positive\n"
     ]
    }
   ],
   "source": [
    "def check_number(n):\n",
    "    if n > 0:\n",
    "        return \"Positive\"\n",
    "    elif n < 0:\n",
    "        return \"Negative\"\n",
    "    else:\n",
    "        return \"Zero\"\n",
    "\n",
    "# Using the function\n",
    "result = check_number(7)\n",
    "print(result)  # Output: Positive\n"
   ]
  },
  {
   "cell_type": "markdown",
   "id": "f825bde1",
   "metadata": {},
   "source": [
    "# 4. What are lambda functions in Python? How are they different from regular functions? Provide an example where a lambda function can be useful."
   ]
  },
  {
   "cell_type": "markdown",
   "id": "09296397",
   "metadata": {},
   "source": [
    "Lambda Functions in Python:\n",
    "\n",
    "Lambda functions, also known as anonymous functions, are small, unnamed functions defined using the lambda keyword.\n",
    "They are used for short-term, simple operations and are often employed in situations where a full function definition is not necessary.\n",
    "Differences from Regular Functions:\n",
    "\n",
    "Syntax:\n",
    "\n",
    "Lambda functions have a concise one-line syntax.\n",
    "Regular functions are defined using the def keyword and have a block of code.\n",
    "Namelessness:\n",
    "\n",
    "Lambda functions are anonymous; they don't have a name.\n",
    "Regular functions are named and can be called using their names.\n",
    "Scope:\n",
    "\n",
    "Lambda functions are often used for small operations within a limited scope.\n",
    "Regular functions are suitable for larger and more complex tasks."
   ]
  },
  {
   "cell_type": "code",
   "execution_count": 12,
   "id": "43d49f29",
   "metadata": {},
   "outputs": [
    {
     "name": "stdout",
     "output_type": "stream",
     "text": [
      "Result (Regular Function): 8\n",
      "Result (Lambda Function): 8\n"
     ]
    }
   ],
   "source": [
    "# Regular function to add two numbers\n",
    "def add_regular(a, b):\n",
    "    return a + b\n",
    "\n",
    "result_regular = add_regular(3, 5)\n",
    "\n",
    "# Equivalent lambda function for adding two numbers\n",
    "add_lambda = lambda a, b: a + b\n",
    "result_lambda = add_lambda(3, 5)\n",
    "\n",
    "print(\"Result (Regular Function):\", result_regular)\n",
    "print(\"Result (Lambda Function):\", result_lambda)\n"
   ]
  },
  {
   "cell_type": "markdown",
   "id": "346d83e4",
   "metadata": {},
   "source": [
    "# 5. How does the concept of \"scope\" apply to functions in Python? Explain the difference between local scope and global scope."
   ]
  },
  {
   "cell_type": "markdown",
   "id": "a35fc7f2",
   "metadata": {},
   "source": [
    "\n",
    "Scope in Functions in Python:\n",
    "\n",
    "The concept of \"scope\" in Python refers to the region of the code where a variable is accessible.\n",
    "Variables in Python have a scope, and their visibility depends on where they are defined.\n",
    "Local Scope:\n",
    "\n",
    "A variable defined inside a function is said to have local scope.\n",
    "It is only accessible within the function where it is defined.\n",
    "Once the function execution is complete, the local variables are destroyed."
   ]
  },
  {
   "cell_type": "code",
   "execution_count": 13,
   "id": "0377fbc6",
   "metadata": {},
   "outputs": [
    {
     "name": "stdout",
     "output_type": "stream",
     "text": [
      "10\n"
     ]
    }
   ],
   "source": [
    "def my_function():\n",
    "    x = 10  # Local variable\n",
    "    print(x)\n",
    "\n",
    "my_function()\n",
    "# print(x)  # This would result in an error because 'x' is not defined in the global scope\n"
   ]
  },
  {
   "cell_type": "markdown",
   "id": "631709ed",
   "metadata": {},
   "source": [
    "Global Scope:\n",
    "\n",
    "A variable defined outside of any function or block has global scope.\n",
    "Global variables are accessible throughout the entire code, both inside and outside functions."
   ]
  },
  {
   "cell_type": "code",
   "execution_count": 14,
   "id": "2a688ea7",
   "metadata": {},
   "outputs": [
    {
     "name": "stdout",
     "output_type": "stream",
     "text": [
      "20\n",
      "20\n"
     ]
    }
   ],
   "source": [
    "y = 20  # Global variable\n",
    "\n",
    "def another_function():\n",
    "    print(y)\n",
    "\n",
    "another_function()\n",
    "print(y)  # 'y' is accessible in the global scope\n"
   ]
  },
  {
   "cell_type": "markdown",
   "id": "2d958d2a",
   "metadata": {},
   "source": [
    "# 6. How can you use the \"return\" statement in a Python function to return multiple values?"
   ]
  },
  {
   "cell_type": "markdown",
   "id": "8f49c7f2",
   "metadata": {},
   "source": [
    "\n",
    "In Python, the return statement can be used to return multiple values from a function by returning them as a tuple. Here's an example:"
   ]
  },
  {
   "cell_type": "code",
   "execution_count": 16,
   "id": "e6074658",
   "metadata": {},
   "outputs": [
    {
     "name": "stdout",
     "output_type": "stream",
     "text": [
      "Sum: 11\n",
      "Difference: 5\n",
      "Product: 24\n"
     ]
    }
   ],
   "source": [
    "def calculate_values(x, y):\n",
    "    sum_result = x + y\n",
    "    difference_result = x - y\n",
    "    product_result = x * y\n",
    "\n",
    "    # Returning multiple values as a tuple\n",
    "    return sum_result, difference_result, product_result\n",
    "\n",
    "# Calling the function and unpacking the returned tuple\n",
    "result_sum, result_difference, result_product = calculate_values(8, 3)\n",
    "\n",
    "# Printing the results\n",
    "print(\"Sum:\", result_sum)\n",
    "print(\"Difference:\", result_difference)\n",
    "print(\"Product:\", result_product)\n"
   ]
  },
  {
   "cell_type": "markdown",
   "id": "aba3aa0f",
   "metadata": {},
   "source": [
    "# 7. What is the difference between the \"pass by value\" and \"pass by reference\" concepts when it comes to function arguments in Python?# "
   ]
  },
  {
   "cell_type": "markdown",
   "id": "09b56379",
   "metadata": {},
   "source": [
    "the concepts of \"pass by value\" and \"pass by reference\" can be understood through the perspective of how the references to objects are passed to functions. Unlike some other programming languages, Python uses a mechanism often described as \"pass by object reference.\"\n",
    "\n",
    "Pass by Value (Immutable Objects):\n",
    "\n",
    "Immutable objects (e.g., integers, strings, tuples) are passed to functions by passing a copy of their value.\n",
    "Modifications made to these objects inside the function do not affect the original objects outside the function.\n",
    "This is similar to \"pass by value\" in other languages.\n",
    "Pass by Object Reference (Mutable Objects):\n",
    "\n",
    "Mutable objects (e.g., lists, dictionaries) are passed to functions by passing a reference to the original object.\n",
    "Changes made to these objects inside the function affect the original objects outside the function.\n",
    "This is similar to \"pass by reference\" in other languages, but it's more accurate to say \"pass by object reference\" in Python."
   ]
  },
  {
   "cell_type": "code",
   "execution_count": 18,
   "id": "af4e12c1",
   "metadata": {},
   "outputs": [
    {
     "name": "stdout",
     "output_type": "stream",
     "text": [
      "Inside Function: Hello World\n",
      "Outside Function: Hello\n"
     ]
    }
   ],
   "source": [
    "def modify_string(s):\n",
    "    s = s + \" World\"  # Creates a new string, doesn't modify the original\n",
    "    print(\"Inside Function:\", s)\n",
    "\n",
    "my_string = \"Hello\"\n",
    "modify_string(my_string)\n",
    "print(\"Outside Function:\", my_string)  # 'my_string' remains \"Hello\"\n"
   ]
  },
  {
   "cell_type": "code",
   "execution_count": 19,
   "id": "cf884582",
   "metadata": {},
   "outputs": [
    {
     "name": "stdout",
     "output_type": "stream",
     "text": [
      "Inside Function: [1, 2, 3, 4]\n",
      "Outside Function: [1, 2, 3, 4]\n"
     ]
    }
   ],
   "source": [
    "def modify_list(my_list):\n",
    "    my_list.append(4)  # Modifies the original list\n",
    "    print(\"Inside Function:\", my_list)\n",
    "\n",
    "original_list = [1, 2, 3]\n",
    "modify_list(original_list)\n",
    "print(\"Outside Function:\", original_list)  # 'original_list' is now [1, 2, 3, 4]\n"
   ]
  },
  {
   "cell_type": "markdown",
   "id": "bee48232",
   "metadata": {},
   "source": [
    "# 8. Create a function that can intake integer or decimal value and do following operations:\n",
    "a. Logarithmic function (log x)\n",
    "b. Exponential function (exp(x))\n",
    "c. Power function with base 2 (2\n",
    "x\n",
    ")\n",
    "\n",
    "d. Square root"
   ]
  },
  {
   "cell_type": "code",
   "execution_count": 20,
   "id": "be8d2949",
   "metadata": {},
   "outputs": [
    {
     "name": "stdout",
     "output_type": "stream",
     "text": [
      "Logarithmic Result: 1.3862943611198906\n",
      "Exponential Result: 54.598150033144236\n",
      "Power Result (2^4.0): 16.0\n",
      "Square Root Result: 2.0\n"
     ]
    }
   ],
   "source": [
    "import math\n",
    "\n",
    "def math_operations(x):\n",
    "    # Logarithmic function (log x)\n",
    "    logarithmic_result = math.log(x)\n",
    "\n",
    "    # Exponential function (exp(x))\n",
    "    exponential_result = math.exp(x)\n",
    "\n",
    "    # Power function with base 2 (2^x)\n",
    "    power_result = 2 ** x\n",
    "\n",
    "    # Square root\n",
    "    square_root_result = math.sqrt(x)\n",
    "\n",
    "    return logarithmic_result, exponential_result, power_result, square_root_result\n",
    "\n",
    "# Example usage:\n",
    "input_value = 4.0  # Replace with your desired input value\n",
    "results = math_operations(input_value)\n",
    "\n",
    "print(f\"Logarithmic Result: {results[0]}\")\n",
    "print(f\"Exponential Result: {results[1]}\")\n",
    "print(f\"Power Result (2^{input_value}): {results[2]}\")\n",
    "print(f\"Square Root Result: {results[3]}\")\n"
   ]
  },
  {
   "cell_type": "markdown",
   "id": "64c61871",
   "metadata": {},
   "source": [
    "# 9. Create a function that takes a full name as an argument and returns first name and last name."
   ]
  },
  {
   "cell_type": "code",
   "execution_count": 21,
   "id": "5c27aa67",
   "metadata": {},
   "outputs": [
    {
     "name": "stdout",
     "output_type": "stream",
     "text": [
      "First Name: John\n",
      "Last Name: Doe\n"
     ]
    }
   ],
   "source": [
    "def extract_first_last_name(full_name):\n",
    "    # Split the full name into words\n",
    "    name_parts = full_name.split()\n",
    "\n",
    "    # Check if there are at least two parts (first name and last name)\n",
    "    if len(name_parts) >= 2:\n",
    "        first_name = name_parts[0]\n",
    "        last_name = ' '.join(name_parts[1:])\n",
    "        return first_name, last_name\n",
    "    else:\n",
    "        # If the name is not in the expected format, return None for both\n",
    "        return None, None\n",
    "\n",
    "# Example usage:\n",
    "full_name_input = \"John Doe\"  # Replace with the desired full name\n",
    "first_name_result, last_name_result = extract_first_last_name(full_name_input)\n",
    "\n",
    "if first_name_result is not None and last_name_result is not None:\n",
    "    print(f\"First Name: {first_name_result}\")\n",
    "    print(f\"Last Name: {last_name_result}\")\n",
    "else:\n",
    "    print(\"Invalid full name format. Provide both first and last names.\")\n"
   ]
  },
  {
   "cell_type": "code",
   "execution_count": null,
   "id": "5ef1e7ad",
   "metadata": {},
   "outputs": [],
   "source": []
  }
 ],
 "metadata": {
  "kernelspec": {
   "display_name": "Python 3 (ipykernel)",
   "language": "python",
   "name": "python3"
  },
  "language_info": {
   "codemirror_mode": {
    "name": "ipython",
    "version": 3
   },
   "file_extension": ".py",
   "mimetype": "text/x-python",
   "name": "python",
   "nbconvert_exporter": "python",
   "pygments_lexer": "ipython3",
   "version": "3.11.5"
  }
 },
 "nbformat": 4,
 "nbformat_minor": 5
}
